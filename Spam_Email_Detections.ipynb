{
  "nbformat": 4,
  "nbformat_minor": 0,
  "metadata": {
    "colab": {
      "provenance": []
    },
    "kernelspec": {
      "name": "python3",
      "display_name": "Python 3"
    },
    "language_info": {
      "name": "python"
    }
  },
  "cells": [
    {
      "cell_type": "code",
      "source": [
        "# Importing the required libraries\n",
        "import numpy as np\n",
        "import pandas as pd\n",
        "from sklearn.feature_extraction.text import TfidfVectorizer\n",
        "from sklearn.model_selection import train_test_split\n",
        "from sklearn.linear_model import LogisticRegression\n",
        "from sklearn.metrics import confusion_matrix\n",
        "import matplotlib.pyplot as plt"
      ],
      "metadata": {
        "id": "6SrbE9POPKMq"
      },
      "execution_count": 29,
      "outputs": []
    },
    {
      "cell_type": "code",
      "source": [
        "# Mounting the drive\n",
        "from google.colab import drive\n",
        "drive.mount('/content/drive')"
      ],
      "metadata": {
        "colab": {
          "base_uri": "https://localhost:8080/"
        },
        "id": "IzKQA12sQ2b1",
        "outputId": "30b407d2-02ce-4e7e-8192-da037b16c34b"
      },
      "execution_count": 30,
      "outputs": [
        {
          "output_type": "stream",
          "name": "stdout",
          "text": [
            "Drive already mounted at /content/drive; to attempt to forcibly remount, call drive.mount(\"/content/drive\", force_remount=True).\n"
          ]
        }
      ]
    },
    {
      "cell_type": "code",
      "source": [
        "# Load the spam dataset\n",
        "data = pd.read_csv(\"/content/drive/MyDrive/Spam Email Detection - spam.csv\")\n",
        "data\n"
      ],
      "metadata": {
        "id": "tOkgwiyUQ7H0"
      },
      "execution_count": null,
      "outputs": []
    },
    {
      "cell_type": "code",
      "source": [
        "# Spliting the data into training and testing sets\n",
        "X_train, X_test, y_train, y_test = train_test_split(data[\"v2\"], data[\"v1\"], test_size=0.2)\n",
        "\n",
        "# Creating a TF-IDF vectorizer\n",
        "vectorizer = TfidfVectorizer()\n",
        "\n",
        "# Transforming the training and testing sets\n",
        "X_train_tfidf = vectorizer.fit_transform(X_train)\n",
        "X_test_tfidf = vectorizer.transform(X_test)"
      ],
      "metadata": {
        "id": "whs6Xlr1RekA"
      },
      "execution_count": 31,
      "outputs": []
    },
    {
      "cell_type": "code",
      "source": [
        "# Creating a logistic regression model\n",
        "model = LogisticRegression()\n",
        "\n",
        "# Trainig the model\n",
        "model.fit(X_train_tfidf, y_train)\n",
        "\n",
        "# Evaluating the model\n",
        "accuracy = model.score(X_test_tfidf, y_test)\n",
        "print(\"Accuracy:\", accuracy)"
      ],
      "metadata": {
        "colab": {
          "base_uri": "https://localhost:8080/"
        },
        "id": "ydKbs9P2R5mJ",
        "outputId": "2350c5ad-3382-40f9-e901-b1b4151b533b"
      },
      "execution_count": 32,
      "outputs": [
        {
          "output_type": "stream",
          "name": "stdout",
          "text": [
            "Accuracy: 0.9650224215246637\n"
          ]
        }
      ]
    },
    {
      "cell_type": "code",
      "source": [
        "# Get the predictions and labels\n",
        "predictions = model.predict(X_test_tfidf)\n",
        "labels = y_test\n",
        "\n",
        "# Create the confusion matrix\n",
        "confusion_matrix = confusion_matrix(labels, predictions)\n",
        "\n",
        "# Print the confusion matrix\n",
        "print(confusion_matrix)"
      ],
      "metadata": {
        "id": "4Kq8O-Rsc9eV"
      },
      "execution_count": null,
      "outputs": []
    },
    {
      "cell_type": "code",
      "source": [
        "# Converting the confusion matrix into a list\n",
        "confusion_matrix_list = confusion_matrix.tolist()\n",
        "\n",
        "# Creating a dataframe from the confusion matrix list\n",
        "confusion_matrix_df = pd.DataFrame(confusion_matrix_list)\n",
        "\n",
        "# Creating a bar graph of the confusion matrix\n",
        "plt.figure(figsize=(8, 6))\n",
        "plt.bar(confusion_matrix_df.columns, confusion_matrix_df.sum(axis=1))\n",
        "plt.xlabel(\"Actual\")\n",
        "plt.ylabel(\"Predicted\")\n",
        "plt.title(\"Confusion Matrix\")\n",
        "plt.show()"
      ],
      "metadata": {
        "id": "CfOmXkQpaeQU"
      },
      "execution_count": null,
      "outputs": []
    }
  ]
}